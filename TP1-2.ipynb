{
 "cells": [
  {
   "cell_type": "code",
   "execution_count": null,
   "metadata": {},
   "outputs": [],
   "source": [
    "import matplotlib\n",
    "import matplotlib.pyplot as plt\n",
    "%matplotlib inline  \n",
    "\n",
    "import numpy as np\n",
    "from tools import *"
   ]
  },
  {
   "cell_type": "markdown",
   "metadata": {},
   "source": [
    "# Partie 1 : SIFT"
   ]
  },
  {
   "cell_type": "code",
   "execution_count": null,
   "metadata": {},
   "outputs": [],
   "source": [
    "# example images\n",
    "I = read_grayscale('data/tools.tiff')\n",
    "I2 = read_grayscale('data/Scene/CALsuburb/image_0205.jpg')\n",
    "plt.imshow(I)"
   ]
  },
  {
   "cell_type": "code",
   "execution_count": null,
   "metadata": {},
   "outputs": [],
   "source": [
    "def compute_grad(I):\n",
    "    # TODO\n",
    "    return Ix, Iy\n",
    "\n",
    "# example d'affichage du résultat\n",
    "Ix, Iy = compute_grad(I)\n",
    "plt.imshow(Ix)\n",
    "plt.colorbar()\n",
    "plt.show()\n",
    "plt.imshow(Iy)\n",
    "plt.colorbar()\n",
    "plt.show()"
   ]
  },
  {
   "cell_type": "code",
   "execution_count": null,
   "metadata": {},
   "outputs": [],
   "source": [
    "def compute_grad_mod_ori(I):\n",
    "    # TODO\n",
    "    return Gm, Go"
   ]
  },
  {
   "cell_type": "code",
   "execution_count": null,
   "metadata": {},
   "outputs": [],
   "source": [
    "def compute_sift_region(Gm, Go, mask=None):\n",
    "    # TODO\n",
    "    # Note: to apply the mask only when given, do:\n",
    "    if mask is not None:\n",
    "        pass # TODO apply mask here\n",
    "    return sift"
   ]
  },
  {
   "cell_type": "code",
   "execution_count": null,
   "metadata": {},
   "outputs": [],
   "source": [
    "# Example of viz of SIFTs\n",
    "# set gausm to True to apply mask weighting of gradients\n",
    "#display_sift_region(I,           compute_grad_mod_ori, compute_sift_region, x=200, y=78, gausm=False)\n",
    "#display_sift_region(marche_im(), compute_grad_mod_ori, compute_sift_region, x=100, y=125, gausm=False)\n",
    "#display_sift_region(marche_im(), compute_grad_mod_ori, compute_sift_region, x=100, y=125, gausm=False)\n",
    "#display_sift_region(marche_im(), compute_grad_mod_ori, compute_sift_region, x=125, y=100, gausm=False)\n",
    "#display_sift_region(marche_im(), compute_grad_mod_ori, compute_sift_region, x=121, y=121, gausm=False)\n",
    "#display_sift_region(toy_im(),    compute_grad_mod_ori, compute_sift_region, x=95, y=95, gausm=False)"
   ]
  },
  {
   "cell_type": "code",
   "execution_count": null,
   "metadata": {},
   "outputs": [],
   "source": [
    "def compute_sift_image(I):\n",
    "    x, y = dense_sampling(I)\n",
    "    im = auto_padding(I)\n",
    "    \n",
    "    # TODO calculs communs aux patchs\n",
    "    sifts = np.zeros(len(x), len(y), 128)\n",
    "    for i, xi in enumerate(x):\n",
    "        for j, yj in enumerate(y):\n",
    "            sifts[i, j, :] = None # TODO SIFT du patch de coordonnee (xi, yj)\n",
    "    return sifts"
   ]
  },
  {
   "cell_type": "markdown",
   "metadata": {},
   "source": [
    "# Partie 2 : Dictionnaire visuel"
   ]
  },
  {
   "cell_type": "code",
   "execution_count": null,
   "metadata": {},
   "outputs": [],
   "source": [
    "# Ideally, restart the Python kernel to start from a clean slate\n",
    "import os\n",
    "import numpy as np\n",
    "from tools import *\n",
    "from sift import *"
   ]
  },
  {
   "cell_type": "code",
   "execution_count": null,
   "metadata": {},
   "outputs": [],
   "source": [
    "# Paths config\n",
    "dir_sc = os.path.join('data', 'Scene')\n",
    "dir_sift = os.path.join('data', 'sift')\n",
    "path_vdict = os.path.join('data', 'kmeans', 'vdict.npy')\n",
    "path_vdsift = os.path.join('data', 'kmeans', 'vdsift.npy')\n",
    "path_vdinames = os.path.join('data', 'kmeans', 'vdinames.npy')\n",
    "\n",
    "inames, ilabls, cnames = load_dataset(dir_sc)"
   ]
  },
  {
   "cell_type": "code",
   "execution_count": null,
   "metadata": {},
   "outputs": [],
   "source": [
    "# If you want to look at the SIFTs that will be fed to compute_visual_dict:\n",
    "sifts_list_by_image = compute_load_sift_dataset(dir_sc, dir_sift, inames, compute_sift_image)"
   ]
  },
  {
   "cell_type": "code",
   "execution_count": null,
   "metadata": {},
   "outputs": [],
   "source": [
    "# Code here the `compute_visual_dict` function\n",
    "def compute_visual_dict(sift, n_clusters=1000, n_init=1, verbose=1):\n",
    "    # reorder data\n",
    "    dim_sift = sift[0].shape[-1]\n",
    "    sift = [s.reshape(-1, dim_sift) for s in sift]\n",
    "    sift = np.concatenate(sift, axis=0)\n",
    "    # remove zero vectors\n",
    "    keep = ~np.all(sift==0, axis=1)\n",
    "    sift = sift[keep]\n",
    "    # randomly pick sift\n",
    "    ids, _ = compute_split(sift.shape[0], pc=0.05)\n",
    "    sift = sift[ids]\n",
    "    \n",
    "    # TODO compute kmeans on `sift`, get cluster centers, add zeros vector"
   ]
  },
  {
   "cell_type": "code",
   "execution_count": null,
   "metadata": {},
   "outputs": [],
   "source": [
    "# Run the visual dict computation (saved the first time)\n",
    "vidct = compute_or_load_vdict(dir_sc, dir_sift, inames, compute_sift_image, path_vdict, compute_visual_dict)"
   ]
  },
  {
   "cell_type": "code",
   "execution_count": null,
   "metadata": {},
   "outputs": [],
   "source": [
    "# Study of the dict\n",
    "regions, sifts = get_regions_and_sifts(dir_sc, np.random.choice(inames, 30)) # Compute SIFT and regions from 30 random images\n",
    "display_images(regions[np.random.choice(len(regions), 100)]) # Show 100 random regions\n",
    "\n",
    "# TODO visually analyze the dict through similar example regions\n",
    "#\n",
    "# Ideally, create `vdregions`, a numpy array of size 1001 x 16 x 16 where each of the 1001 elements is a\n",
    "# \"prototype\" patch that is very close to the cluster center"
   ]
  },
  {
   "cell_type": "markdown",
   "metadata": {},
   "source": [
    "# Partie 3 : BoW"
   ]
  },
  {
   "cell_type": "code",
   "execution_count": null,
   "metadata": {},
   "outputs": [],
   "source": [
    "# Compute BoW for an image\n",
    "\n",
    "def compute_feats(vdict, image_sifts):\n",
    "    # TODO compute BoW from `image_sifts`\n",
    "    return"
   ]
  },
  {
   "cell_type": "code",
   "execution_count": null,
   "metadata": {},
   "outputs": [],
   "source": [
    "# Visualize your BoW on an image\n",
    "\n",
    "iname = inames[0]\n",
    "ipath = os.path.join(dir_sc, iname)\n",
    "im = read_grayscale(ipath)\n",
    "sift = compute_sift_image(im)\n",
    "regions = compute_regions(im)\n",
    "feats = compute_feats(vdict, sift)\n",
    "\n",
    "display_vdregions_image(im, vdict, sift, feats, vdregions=None) # if you have vdregions, add it as input here"
   ]
  }
 ],
 "metadata": {
  "kernelspec": {
   "display_name": "Python 3",
   "language": "python",
   "name": "python3"
  },
  "language_info": {
   "codemirror_mode": {
    "name": "ipython",
    "version": 3
   },
   "file_extension": ".py",
   "mimetype": "text/x-python",
   "name": "python",
   "nbconvert_exporter": "python",
   "pygments_lexer": "ipython3",
   "version": "3.6.3"
  }
 },
 "nbformat": 4,
 "nbformat_minor": 2
}
