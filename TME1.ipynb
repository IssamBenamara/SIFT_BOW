{
  "nbformat": 4,
  "nbformat_minor": 0,
  "metadata": {
    "colab": {
      "name": "TME1.ipynb",
      "provenance": []
    },
    "kernelspec": {
      "name": "python3",
      "display_name": "Python 3"
    }
  },
  "cells": [
    {
      "cell_type": "markdown",
      "metadata": {
        "id": "0q8rpDw_RHZk",
        "colab_type": "text"
      },
      "source": [
        "#TME RDFIA\n"
      ]
    },
    {
      "cell_type": "code",
      "metadata": {
        "id": "n9LIptkBPC1W",
        "colab_type": "code",
        "colab": {}
      },
      "source": [
        "import numpy"
      ],
      "execution_count": 0,
      "outputs": []
    }
  ]
}