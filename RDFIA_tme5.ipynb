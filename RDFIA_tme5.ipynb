{
  "nbformat": 4,
  "nbformat_minor": 0,
  "metadata": {
    "colab": {
      "name": "RDFIA_tme5",
      "provenance": [],
      "collapsed_sections": [],
      "include_colab_link": true
    },
    "kernelspec": {
      "name": "python3",
      "display_name": "Python 3"
    }
  },
  "cells": [
    {
      "cell_type": "markdown",
      "metadata": {
        "id": "view-in-github",
        "colab_type": "text"
      },
      "source": [
        "<a href=\"https://colab.research.google.com/github/IssamBenamara/SIFT_BOW/blob/master/RDFIA_tme5.ipynb\" target=\"_parent\"><img src=\"https://colab.research.google.com/assets/colab-badge.svg\" alt=\"Open In Colab\"/></a>"
      ]
    },
    {
      "cell_type": "code",
      "metadata": {
        "id": "vHfmNMyEF4rL",
        "colab_type": "code",
        "colab": {
          "base_uri": "https://localhost:8080/",
          "height": 107
        },
        "outputId": "7927bd69-f971-4247-fa17-0902dd12d474"
      },
      "source": [
        "!unzip tp4-5.zip"
      ],
      "execution_count": 1,
      "outputs": [
        {
          "output_type": "stream",
          "text": [
            "Archive:  tp4-5.zip\n",
            "  inflating: circles.mat             \n",
            "  inflating: circles.py              \n",
            "  inflating: mnist.mat               \n",
            "  inflating: tme5.py                 \n"
          ],
          "name": "stdout"
        }
      ]
    },
    {
      "cell_type": "code",
      "metadata": {
        "id": "lUxAH1MwALD5",
        "colab_type": "code",
        "colab": {}
      },
      "source": [
        "import math\n",
        "import torch\n",
        "import numpy as np\n",
        "import matplotlib.pyplot as plt\n",
        "import torch.nn.functional as F\n",
        "from tme5 import CirclesData"
      ],
      "execution_count": 0,
      "outputs": []
    },
    {
      "cell_type": "code",
      "metadata": {
        "id": "IT8agd_dANup",
        "colab_type": "code",
        "colab": {}
      },
      "source": [
        "def init_params(nx, nh, ny):\n",
        "    import torch.distributions as tdist\n",
        "    params = {}\n",
        "\n",
        "    n = tdist.Normal(0,0.3)\n",
        "\n",
        "    params[\"Wh\"] = n.sample( (nx, nh) )\n",
        "    params[\"bh\"] = n.sample( (1, nh) )\n",
        "    \n",
        "    params[\"Wy\"] = n.sample( (nh, ny) )\n",
        "    params[\"by\"] = n.sample( (1, ny) )\n",
        "    \n",
        "    return params"
      ],
      "execution_count": 0,
      "outputs": []
    },
    {
      "cell_type": "code",
      "metadata": {
        "id": "zNYbCMX8NUYL",
        "colab_type": "code",
        "outputId": "9df8df04-3e7c-4523-e779-e700071444d2",
        "colab": {
          "base_uri": "https://localhost:8080/",
          "height": 143
        }
      },
      "source": [
        "input_size = 5\n",
        "hidden_size = 3\n",
        "output_size = 2\n",
        "params = init_params(nx = input_size, nh = hidden_size, ny = output_size)\n",
        "print(params)"
      ],
      "execution_count": 24,
      "outputs": [
        {
          "output_type": "stream",
          "text": [
            "{'Wh': tensor([[-0.0168,  0.4477,  0.1034],\n",
            "        [-0.1008,  0.3060, -0.2346],\n",
            "        [-0.1070,  0.1533,  0.1009],\n",
            "        [ 0.0665, -0.1851, -0.0498],\n",
            "        [-0.0209,  0.2745, -0.1339]]), 'bh': tensor([[0.1214, 0.0913, 0.1251]]), 'Wy': tensor([[-0.3117, -0.5175],\n",
            "        [-0.0653,  0.2540],\n",
            "        [-0.2492,  0.1644]]), 'by': tensor([[-0.1176, -0.2474]])}\n"
          ],
          "name": "stdout"
        }
      ]
    },
    {
      "cell_type": "code",
      "metadata": {
        "id": "raE8KxqXBqnB",
        "colab_type": "code",
        "colab": {}
      },
      "source": [
        "def forward(params, X):\n",
        "    outputs = {}\n",
        "\n",
        "    outputs[\"X\"] = X\n",
        "    outputs[\"htilde\"] = torch.matmul( X, params['Wh'] ) + params['bh']\n",
        "    outputs[\"h\"] = torch.tanh( outputs[\"htilde\"] )\n",
        "    outputs[\"ytilde\"] = torch.matmul( outputs[\"h\"], params['Wy'] ) + params['by']\n",
        "    outputs[\"yhat\"] = torch.softmax( outputs[\"ytilde\"], dim=-1 )\n",
        "\n",
        "    return outputs['yhat'], outputs"
      ],
      "execution_count": 0,
      "outputs": []
    },
    {
      "cell_type": "code",
      "metadata": {
        "id": "EgDQYdnZP-K7",
        "colab_type": "code",
        "outputId": "8c18e684-2718-42fb-db61-ba4fb9257abe",
        "colab": {
          "base_uri": "https://localhost:8080/",
          "height": 341
        }
      },
      "source": [
        "batch_size = 3\n",
        "outputs = forward(params, torch.randn((batch_size,input_size)))\n",
        "outputs"
      ],
      "execution_count": 28,
      "outputs": [
        {
          "output_type": "execute_result",
          "data": {
            "text/plain": [
              "(tensor([[0.6143, 0.3857],\n",
              "         [0.5037, 0.4963],\n",
              "         [0.4349, 0.5651]]),\n",
              " {'X': tensor([[-2.2286, -0.0592,  0.8460,  1.5853,  1.1930],\n",
              "          [-0.3494,  0.6528,  1.3633,  0.8864,  1.9019],\n",
              "          [ 1.3015, -0.4769,  1.3780,  0.0609,  0.0403]]),\n",
              "  'h': tensor([[ 0.1535, -0.6416, -0.2399],\n",
              "          [-0.0651,  0.6054, -0.2216],\n",
              "          [ 0.0034,  0.6286,  0.4638]]),\n",
              "  'htilde': tensor([[ 0.1548, -0.7609, -0.2447],\n",
              "          [-0.0652,  0.7017, -0.2253],\n",
              "          [ 0.0034,  0.7391,  0.5021]]),\n",
              "  'yhat': tensor([[0.6143, 0.3857],\n",
              "          [0.5037, 0.4963],\n",
              "          [0.4349, 0.5651]]),\n",
              "  'ytilde': tensor([[-0.0638, -0.5292],\n",
              "          [-0.0816, -0.0963],\n",
              "          [-0.2753, -0.0132]])})"
            ]
          },
          "metadata": {
            "tags": []
          },
          "execution_count": 28
        }
      ]
    },
    {
      "cell_type": "code",
      "metadata": {
        "id": "iP-qFRYuVwT4",
        "colab_type": "code",
        "colab": {}
      },
      "source": [
        "def loss_accuracy(Yhat, Y):\n",
        "    L = 0\n",
        "    acc = 0\n",
        "\n",
        "    L = -torch.sum(Y*torch.log(Yhat))\n",
        "    _, indsY = torch.max(Y,dim=-1)\n",
        "    _, indsYhat = torch.max(Yhat,dim=-1)\n",
        "    acc = torch.mean((indsY == indsYhat).double())\n",
        "\n",
        "    return L, acc"
      ],
      "execution_count": 0,
      "outputs": []
    },
    {
      "cell_type": "code",
      "metadata": {
        "id": "kjAvVXppWKpn",
        "colab_type": "code",
        "outputId": "ce53ee61-d446-4a2e-a70b-f30a470b4e7c",
        "colab": {
          "base_uri": "https://localhost:8080/",
          "height": 35
        }
      },
      "source": [
        "Yhat = outputs[1]['yhat']\n",
        "OneHot_Matrix = np.eye( output_size )[ np.random.choice( output_size, Yhat.shape[0] ) ]\n",
        "Y = torch.Tensor(OneHot_Matrix)\n",
        "\n",
        "loss_accuracy(Yhat, Y)"
      ],
      "execution_count": 44,
      "outputs": [
        {
          "output_type": "execute_result",
          "data": {
            "text/plain": [
              "(tensor(2.2239), tensor(0.3333, dtype=torch.float64))"
            ]
          },
          "metadata": {
            "tags": []
          },
          "execution_count": 44
        }
      ]
    },
    {
      "cell_type": "code",
      "metadata": {
        "id": "EG0KqALkR31J",
        "colab_type": "code",
        "colab": {}
      },
      "source": [
        "def backward(params, outputs, Y):\n",
        "    grads = {}\n",
        "\n",
        "    # TODO remplir avec les paramètres Wy, Wh, by, bh\n",
        "    # grads[\"Wy\"] = ...\n",
        "\n",
        "    return grads"
      ],
      "execution_count": 0,
      "outputs": []
    },
    {
      "cell_type": "code",
      "metadata": {
        "id": "8SFOBToYGEOp",
        "colab_type": "code",
        "outputId": "e0eb049b-6f37-46de-8211-fe005d6f382b",
        "colab": {
          "base_uri": "https://localhost:8080/",
          "height": 550
        }
      },
      "source": [
        "\n",
        "\n",
        "\n",
        "\n",
        "\n",
        "\n",
        "\n",
        "\n",
        "\n",
        "def backward(params, outputs, Y):\n",
        "    grads = {}\n",
        "\n",
        "    # TODO remplir avec les paramètres Wy, Wh, by, bh\n",
        "    # grads[\"Wy\"] = ...\n",
        "\n",
        "    return grads\n",
        "\n",
        "def sgd(params, grads, eta):\n",
        "    # TODO mettre à jour le contenu de params\n",
        "\n",
        "    return params\n",
        "\n",
        "\n",
        "\n",
        "if __name__ == '__main__':\n",
        "\n",
        "    # init\n",
        "    data = CirclesData()\n",
        "    data.plot_data()\n",
        "    N = data.Xtrain.shape[0]\n",
        "    Nbatch = 10\n",
        "    nx = data.Xtrain.shape[1]\n",
        "    nh = 10\n",
        "    ny = data.Ytrain.shape[1]\n",
        "    eta = 0.03\n",
        "\n",
        "    # Premiers tests, code à modifier\n",
        "    params = init_params(nx, nh, xy)\n",
        "    Yhat, outs = forward(params, data.Xtrain)\n",
        "    L, _ = loss_accuracy(Yhat, Y)\n",
        "    grads = backward(params, outputs, Y)\n",
        "    params = sgd(params, grads, eta)\n",
        "\n",
        "    # TODO apprentissage\n",
        "\n",
        "    # attendre un appui sur une touche pour garder les figures\n",
        "    input(\"done\")"
      ],
      "execution_count": 3,
      "outputs": [
        {
          "output_type": "display_data",
          "data": {
            "image/png": "[encoded data removed]",
            "text/plain": [
              "<Figure size 360x360 with 1 Axes>"
            ]
          },
          "metadata": {
            "tags": []
          }
        },
        {
          "output_type": "error",
          "ename": "NameError",
          "evalue": "ignored",
          "traceback": [
            "\u001b[0;31m---------------------------------------------------------------------------\u001b[0m",
            "\u001b[0;31mNameError\u001b[0m                                 Traceback (most recent call last)",
            "\u001b[0;32m<ipython-input-3-ef24f043dc0a>\u001b[0m in \u001b[0;36m<module>\u001b[0;34m()\u001b[0m\n\u001b[1;32m     71\u001b[0m \u001b[0;34m\u001b[0m\u001b[0m\n\u001b[1;32m     72\u001b[0m     \u001b[0;31m# Premiers tests, code à modifier\u001b[0m\u001b[0;34m\u001b[0m\u001b[0;34m\u001b[0m\u001b[0;34m\u001b[0m\u001b[0m\n\u001b[0;32m---> 73\u001b[0;31m     \u001b[0mparams\u001b[0m \u001b[0;34m=\u001b[0m \u001b[0minit_params\u001b[0m\u001b[0;34m(\u001b[0m\u001b[0mnx\u001b[0m\u001b[0;34m,\u001b[0m \u001b[0mnh\u001b[0m\u001b[0;34m,\u001b[0m \u001b[0mxy\u001b[0m\u001b[0;34m)\u001b[0m\u001b[0;34m\u001b[0m\u001b[0;34m\u001b[0m\u001b[0m\n\u001b[0m\u001b[1;32m     74\u001b[0m     \u001b[0mYhat\u001b[0m\u001b[0;34m,\u001b[0m \u001b[0mouts\u001b[0m \u001b[0;34m=\u001b[0m \u001b[0mforward\u001b[0m\u001b[0;34m(\u001b[0m\u001b[0mparams\u001b[0m\u001b[0;34m,\u001b[0m \u001b[0mdata\u001b[0m\u001b[0;34m.\u001b[0m\u001b[0mXtrain\u001b[0m\u001b[0;34m)\u001b[0m\u001b[0;34m\u001b[0m\u001b[0;34m\u001b[0m\u001b[0m\n\u001b[1;32m     75\u001b[0m     \u001b[0mL\u001b[0m\u001b[0;34m,\u001b[0m \u001b[0m_\u001b[0m \u001b[0;34m=\u001b[0m \u001b[0mloss_accuracy\u001b[0m\u001b[0;34m(\u001b[0m\u001b[0mYhat\u001b[0m\u001b[0;34m,\u001b[0m \u001b[0mY\u001b[0m\u001b[0;34m)\u001b[0m\u001b[0;34m\u001b[0m\u001b[0;34m\u001b[0m\u001b[0m\n",
            "\u001b[0;31mNameError\u001b[0m: name 'xy' is not defined"
          ]
        }
      ]
    },
    {
      "cell_type": "code",
      "metadata": {
        "id": "zvjQkNhCc63Y",
        "colab_type": "code",
        "outputId": "9a7adefd-c04b-43be-ea34-c3fab5223290",
        "colab": {
          "base_uri": "https://localhost:8080/",
          "height": 1000
        }
      },
      "source": [
        "data.Ytrain"
      ],
      "execution_count": 0,
      "outputs": [
        {
          "output_type": "execute_result",
          "data": {
            "text/plain": [
              "tensor([[1., 0.],\n",
              "        [1., 0.],\n",
              "        [1., 0.],\n",
              "        [1., 0.],\n",
              "        [1., 0.],\n",
              "        [1., 0.],\n",
              "        [1., 0.],\n",
              "        [1., 0.],\n",
              "        [1., 0.],\n",
              "        [1., 0.],\n",
              "        [1., 0.],\n",
              "        [1., 0.],\n",
              "        [1., 0.],\n",
              "        [1., 0.],\n",
              "        [1., 0.],\n",
              "        [1., 0.],\n",
              "        [1., 0.],\n",
              "        [1., 0.],\n",
              "        [1., 0.],\n",
              "        [1., 0.],\n",
              "        [1., 0.],\n",
              "        [1., 0.],\n",
              "        [1., 0.],\n",
              "        [1., 0.],\n",
              "        [1., 0.],\n",
              "        [1., 0.],\n",
              "        [1., 0.],\n",
              "        [1., 0.],\n",
              "        [1., 0.],\n",
              "        [1., 0.],\n",
              "        [1., 0.],\n",
              "        [1., 0.],\n",
              "        [1., 0.],\n",
              "        [1., 0.],\n",
              "        [1., 0.],\n",
              "        [1., 0.],\n",
              "        [1., 0.],\n",
              "        [1., 0.],\n",
              "        [1., 0.],\n",
              "        [1., 0.],\n",
              "        [1., 0.],\n",
              "        [1., 0.],\n",
              "        [1., 0.],\n",
              "        [1., 0.],\n",
              "        [1., 0.],\n",
              "        [1., 0.],\n",
              "        [1., 0.],\n",
              "        [1., 0.],\n",
              "        [1., 0.],\n",
              "        [1., 0.],\n",
              "        [1., 0.],\n",
              "        [1., 0.],\n",
              "        [1., 0.],\n",
              "        [1., 0.],\n",
              "        [1., 0.],\n",
              "        [1., 0.],\n",
              "        [1., 0.],\n",
              "        [1., 0.],\n",
              "        [1., 0.],\n",
              "        [1., 0.],\n",
              "        [1., 0.],\n",
              "        [1., 0.],\n",
              "        [1., 0.],\n",
              "        [1., 0.],\n",
              "        [1., 0.],\n",
              "        [1., 0.],\n",
              "        [1., 0.],\n",
              "        [1., 0.],\n",
              "        [1., 0.],\n",
              "        [1., 0.],\n",
              "        [1., 0.],\n",
              "        [1., 0.],\n",
              "        [1., 0.],\n",
              "        [1., 0.],\n",
              "        [1., 0.],\n",
              "        [1., 0.],\n",
              "        [1., 0.],\n",
              "        [1., 0.],\n",
              "        [1., 0.],\n",
              "        [1., 0.],\n",
              "        [1., 0.],\n",
              "        [1., 0.],\n",
              "        [1., 0.],\n",
              "        [1., 0.],\n",
              "        [1., 0.],\n",
              "        [1., 0.],\n",
              "        [1., 0.],\n",
              "        [1., 0.],\n",
              "        [1., 0.],\n",
              "        [1., 0.],\n",
              "        [1., 0.],\n",
              "        [1., 0.],\n",
              "        [1., 0.],\n",
              "        [1., 0.],\n",
              "        [1., 0.],\n",
              "        [1., 0.],\n",
              "        [1., 0.],\n",
              "        [1., 0.],\n",
              "        [1., 0.],\n",
              "        [1., 0.],\n",
              "        [0., 1.],\n",
              "        [0., 1.],\n",
              "        [0., 1.],\n",
              "        [0., 1.],\n",
              "        [0., 1.],\n",
              "        [0., 1.],\n",
              "        [0., 1.],\n",
              "        [0., 1.],\n",
              "        [0., 1.],\n",
              "        [0., 1.],\n",
              "        [0., 1.],\n",
              "        [0., 1.],\n",
              "        [0., 1.],\n",
              "        [0., 1.],\n",
              "        [0., 1.],\n",
              "        [0., 1.],\n",
              "        [0., 1.],\n",
              "        [0., 1.],\n",
              "        [0., 1.],\n",
              "        [0., 1.],\n",
              "        [0., 1.],\n",
              "        [0., 1.],\n",
              "        [0., 1.],\n",
              "        [0., 1.],\n",
              "        [0., 1.],\n",
              "        [0., 1.],\n",
              "        [0., 1.],\n",
              "        [0., 1.],\n",
              "        [0., 1.],\n",
              "        [0., 1.],\n",
              "        [0., 1.],\n",
              "        [0., 1.],\n",
              "        [0., 1.],\n",
              "        [0., 1.],\n",
              "        [0., 1.],\n",
              "        [0., 1.],\n",
              "        [0., 1.],\n",
              "        [0., 1.],\n",
              "        [0., 1.],\n",
              "        [0., 1.],\n",
              "        [0., 1.],\n",
              "        [0., 1.],\n",
              "        [0., 1.],\n",
              "        [0., 1.],\n",
              "        [0., 1.],\n",
              "        [0., 1.],\n",
              "        [0., 1.],\n",
              "        [0., 1.],\n",
              "        [0., 1.],\n",
              "        [0., 1.],\n",
              "        [0., 1.],\n",
              "        [0., 1.],\n",
              "        [0., 1.],\n",
              "        [0., 1.],\n",
              "        [0., 1.],\n",
              "        [0., 1.],\n",
              "        [0., 1.],\n",
              "        [0., 1.],\n",
              "        [0., 1.],\n",
              "        [0., 1.],\n",
              "        [0., 1.],\n",
              "        [0., 1.],\n",
              "        [0., 1.],\n",
              "        [0., 1.],\n",
              "        [0., 1.],\n",
              "        [0., 1.],\n",
              "        [0., 1.],\n",
              "        [0., 1.],\n",
              "        [0., 1.],\n",
              "        [0., 1.],\n",
              "        [0., 1.],\n",
              "        [0., 1.],\n",
              "        [0., 1.],\n",
              "        [0., 1.],\n",
              "        [0., 1.],\n",
              "        [0., 1.],\n",
              "        [0., 1.],\n",
              "        [0., 1.],\n",
              "        [0., 1.],\n",
              "        [0., 1.],\n",
              "        [0., 1.],\n",
              "        [0., 1.],\n",
              "        [0., 1.],\n",
              "        [0., 1.],\n",
              "        [0., 1.],\n",
              "        [0., 1.],\n",
              "        [0., 1.],\n",
              "        [0., 1.],\n",
              "        [0., 1.],\n",
              "        [0., 1.],\n",
              "        [0., 1.],\n",
              "        [0., 1.],\n",
              "        [0., 1.],\n",
              "        [0., 1.],\n",
              "        [0., 1.],\n",
              "        [0., 1.],\n",
              "        [0., 1.],\n",
              "        [0., 1.],\n",
              "        [0., 1.],\n",
              "        [0., 1.]])"
            ]
          },
          "metadata": {
            "tags": []
          },
          "execution_count": 57
        }
      ]
    }
  ]
}