{
  "nbformat": 4,
  "nbformat_minor": 0,
  "metadata": {
    "kernelspec": {
      "display_name": "Python 3",
      "language": "python",
      "name": "python3"
    },
    "language_info": {
      "codemirror_mode": {
        "name": "ipython",
        "version": 3
      },
      "file_extension": ".py",
      "mimetype": "text/x-python",
      "name": "python",
      "nbconvert_exporter": "python",
      "pygments_lexer": "ipython3",
      "version": "3.6.3"
    },
    "colab": {
      "name": "TP1-2.ipynb",
      "provenance": [],
      "toc_visible": true
    }
  },
  "cells": [
    {
      "cell_type": "code",
      "metadata": {
        "id": "ocezmWETeJQE",
        "colab_type": "code",
        "colab": {
          "base_uri": "https://localhost:8080/",
          "height": 571
        },
        "outputId": "6c959d31-5bf2-4e89-e539-24dc708eceac"
      },
      "source": [
        "!wget https://raw.githubusercontent.com/chubby47/SIFT_BOW/master/tools.py\n",
        "!wget https://raw.githubusercontent.com/chubby47/SIFT_BOW/master/compute_kmeans.py\n",
        "!wget https://raw.githubusercontent.com/chubby47/SIFT_BOW/master/compute_sifts.py"
      ],
      "execution_count": 27,
      "outputs": [
        {
          "output_type": "stream",
          "text": [
            "--2019-09-27 20:56:07--  https://raw.githubusercontent.com/chubby47/SIFT_BOW/master/tools.py\n",
            "Resolving raw.githubusercontent.com (raw.githubusercontent.com)... 151.101.0.133, 151.101.64.133, 151.101.128.133, ...\n",
            "Connecting to raw.githubusercontent.com (raw.githubusercontent.com)|151.101.0.133|:443... connected.\n",
            "HTTP request sent, awaiting response... 200 OK\n",
            "Length: 12730 (12K) [text/plain]\n",
            "Saving to: ‘tools.py.1’\n",
            "\n",
            "\rtools.py.1            0%[                    ]       0  --.-KB/s               \rtools.py.1          100%[===================>]  12.43K  --.-KB/s    in 0s      \n",
            "\n",
            "2019-09-27 20:56:07 (108 MB/s) - ‘tools.py.1’ saved [12730/12730]\n",
            "\n",
            "--2019-09-27 20:56:09--  https://raw.githubusercontent.com/chubby47/SIFT_BOW/master/compute_kmeans.py\n",
            "Resolving raw.githubusercontent.com (raw.githubusercontent.com)... 151.101.0.133, 151.101.64.133, 151.101.128.133, ...\n",
            "Connecting to raw.githubusercontent.com (raw.githubusercontent.com)|151.101.0.133|:443... connected.\n",
            "HTTP request sent, awaiting response... 200 OK\n",
            "Length: 491 [text/plain]\n",
            "Saving to: ‘compute_kmeans.py.1’\n",
            "\n",
            "compute_kmeans.py.1 100%[===================>]     491  --.-KB/s    in 0s      \n",
            "\n",
            "2019-09-27 20:56:09 (59.3 MB/s) - ‘compute_kmeans.py.1’ saved [491/491]\n",
            "\n",
            "--2019-09-27 20:56:11--  https://raw.githubusercontent.com/chubby47/SIFT_BOW/master/compute_sifts.py\n",
            "Resolving raw.githubusercontent.com (raw.githubusercontent.com)... 151.101.0.133, 151.101.64.133, 151.101.128.133, ...\n",
            "Connecting to raw.githubusercontent.com (raw.githubusercontent.com)|151.101.0.133|:443... connected.\n",
            "HTTP request sent, awaiting response... 200 OK\n",
            "Length: 450 [text/plain]\n",
            "Saving to: ‘compute_sifts.py.1’\n",
            "\n",
            "compute_sifts.py.1  100%[===================>]     450  --.-KB/s    in 0s      \n",
            "\n",
            "2019-09-27 20:56:11 (77.1 MB/s) - ‘compute_sifts.py.1’ saved [450/450]\n",
            "\n"
          ],
          "name": "stdout"
        }
      ]
    },
    {
      "cell_type": "code",
      "metadata": {
        "id": "WWtSHjzGcBAA",
        "colab_type": "code",
        "colab": {}
      },
      "source": [
        "import matplotlib\n",
        "import matplotlib.pyplot as plt\n",
        "%matplotlib inline  \n",
        "\n",
        "import numpy as np\n",
        "from tools import *"
      ],
      "execution_count": 0,
      "outputs": []
    },
    {
      "cell_type": "code",
      "metadata": {
        "id": "2gKzmsfkckhC",
        "colab_type": "code",
        "colab": {
          "base_uri": "https://localhost:8080/",
          "height": 34
        },
        "outputId": "517fce23-d8cd-4982-8e34-9c5f867b6001"
      },
      "source": [
        "from google.colab import drive\n",
        "drive.mount('/content/drive')"
      ],
      "execution_count": 29,
      "outputs": [
        {
          "output_type": "stream",
          "text": [
            "Drive already mounted at /content/drive; to attempt to forcibly remount, call drive.mount(\"/content/drive\", force_remount=True).\n"
          ],
          "name": "stdout"
        }
      ]
    },
    {
      "cell_type": "code",
      "metadata": {
        "id": "BHMnAigFcLrX",
        "colab_type": "code",
        "colab": {
          "base_uri": "https://localhost:8080/",
          "height": 50
        },
        "outputId": "818bac20-1d5c-4f2f-eb22-eb9cbb023a03"
      },
      "source": [
        "!unzip /content/drive/My\\ Drive/data.zip -d /content/"
      ],
      "execution_count": 30,
      "outputs": [
        {
          "output_type": "stream",
          "text": [
            "Archive:  /content/drive/My Drive/data.zip\n",
            "replace /content/data/.DS_Store? [y]es, [n]o, [A]ll, [N]one, [r]ename: N\n"
          ],
          "name": "stdout"
        }
      ]
    },
    {
      "cell_type": "markdown",
      "metadata": {
        "id": "A4_qspNUcBAE",
        "colab_type": "text"
      },
      "source": [
        "# Partie 1 : SIFT"
      ]
    },
    {
      "cell_type": "code",
      "metadata": {
        "id": "JsF_VgAycBAF",
        "colab_type": "code",
        "colab": {
          "base_uri": "https://localhost:8080/",
          "height": 286
        },
        "outputId": "e4b3b7e4-8b8b-4aff-9ba7-2f67cf3be474"
      },
      "source": [
        "# example images\n",
        "I = read_grayscale('data/tools.tiff')\n",
        "I2 = read_grayscale('data/Scene/CALsuburb/image_0205.jpg')\n",
        "plt.imshow(I)"
      ],
      "execution_count": 31,
      "outputs": [
        {
          "output_type": "execute_result",
          "data": {
            "text/plain": [
              "<matplotlib.image.AxesImage at 0x7f9562202e80>"
            ]
          },
          "metadata": {
            "tags": []
          },
          "execution_count": 31
        },
        {
          "output_type": "display_data",
          "data": {
            "image/png": "[encoded data removed]",
            "text/plain": [
              "<Figure size 432x288 with 1 Axes>"
            ]
          },
          "metadata": {
            "tags": []
          }
        }
      ]
    },
    {
      "cell_type": "code",
      "metadata": {
        "id": "xfgeLsCywkNy",
        "colab_type": "code",
        "colab": {}
      },
      "source": [
        "h_x = np.asarray([1,0,-1])\n",
        "h_y = np.asarray([-1,-2,-1])\n",
        "Iy = conv_separable(I, h_x, h_y)\n",
        "Ix = conv_separable(I, h_y, h_x)"
      ],
      "execution_count": 0,
      "outputs": []
    },
    {
      "cell_type": "code",
      "metadata": {
        "id": "pjMTBQCTyPNQ",
        "colab_type": "code",
        "colab": {
          "base_uri": "https://localhost:8080/",
          "height": 286
        },
        "outputId": "8963f0e3-7e13-4c3b-cb0d-f5d19d5c4c1a"
      },
      "source": [
        "plt.imshow(Ix)"
      ],
      "execution_count": 106,
      "outputs": [
        {
          "output_type": "execute_result",
          "data": {
            "text/plain": [
              "<matplotlib.image.AxesImage at 0x7f95614bcd30>"
            ]
          },
          "metadata": {
            "tags": []
          },
          "execution_count": 106
        },
        {
          "output_type": "display_data",
          "data": {
            "image/png": "[encoded data removed]",
            "text/plain": [
              "<Figure size 432x288 with 1 Axes>"
            ]
          },
          "metadata": {
            "tags": []
          }
        }
      ]
    },
    {
      "cell_type": "code",
      "metadata": {
        "id": "Dost1ZKJyU24",
        "colab_type": "code",
        "colab": {
          "base_uri": "https://localhost:8080/",
          "height": 286
        },
        "outputId": "1752f9aa-c18e-4c9f-d413-b653309a92f2"
      },
      "source": [
        "plt.imshow(Iy)"
      ],
      "execution_count": 107,
      "outputs": [
        {
          "output_type": "execute_result",
          "data": {
            "text/plain": [
              "<matplotlib.image.AxesImage at 0x7f9561417400>"
            ]
          },
          "metadata": {
            "tags": []
          },
          "execution_count": 107
        },
        {
          "output_type": "display_data",
          "data": {
            "image/png": "[encoded data removed]",
            "text/plain": [
              "<Figure size 432x288 with 1 Axes>"
            ]
          },
          "metadata": {
            "tags": []
          }
        }
      ]
    },
    {
      "cell_type": "code",
      "metadata": {
        "id": "I-RBnh-ucBAH",
        "colab_type": "code",
        "colab": {}
      },
      "source": [
        "def compute_grad(I):\n",
        "    h_x = np.asarray([1,0,-1])\n",
        "    h_y = np.asarray([-1,-2,-1])\n",
        "    Iy = conv_separable(I, h_x, h_y)\n",
        "    Ix = conv_separable(I, h_y, h_x)\n",
        "\n",
        "    return Ix, Iy\n",
        "\n",
        "# example d'affichage du résultat\n",
        "Ix, Iy = compute_grad(I)\n",
        "plt.imshow(Ix)\n",
        "plt.colorbar()\n",
        "plt.show()\n",
        "plt.imshow(Iy)\n",
        "plt.colorbar()\n",
        "plt.show()"
      ],
      "execution_count": 0,
      "outputs": []
    },
    {
      "cell_type": "code",
      "metadata": {
        "id": "e-kNxyLWcBAJ",
        "colab_type": "code",
        "colab": {}
      },
      "source": [
        "def compute_grad_mod_ori(I):\n",
        "    # TODO\n",
        "    return Gm, Go"
      ],
      "execution_count": 0,
      "outputs": []
    },
    {
      "cell_type": "code",
      "metadata": {
        "id": "MgQZF3hxcBAL",
        "colab_type": "code",
        "colab": {}
      },
      "source": [
        "def compute_sift_region(Gm, Go, mask=None):\n",
        "    # TODO\n",
        "    # Note: to apply the mask only when given, do:\n",
        "    if mask is not None:\n",
        "        pass # TODO apply mask here\n",
        "    return sift"
      ],
      "execution_count": 0,
      "outputs": []
    },
    {
      "cell_type": "code",
      "metadata": {
        "id": "P13zJ-awcBAN",
        "colab_type": "code",
        "colab": {}
      },
      "source": [
        "# Example of viz of SIFTs\n",
        "# set gausm to True to apply mask weighting of gradients\n",
        "#display_sift_region(I,           compute_grad_mod_ori, compute_sift_region, x=200, y=78, gausm=False)\n",
        "#display_sift_region(marche_im(), compute_grad_mod_ori, compute_sift_region, x=100, y=125, gausm=False)\n",
        "#display_sift_region(marche_im(), compute_grad_mod_ori, compute_sift_region, x=100, y=125, gausm=False)\n",
        "#display_sift_region(marche_im(), compute_grad_mod_ori, compute_sift_region, x=125, y=100, gausm=False)\n",
        "#display_sift_region(marche_im(), compute_grad_mod_ori, compute_sift_region, x=121, y=121, gausm=False)\n",
        "#display_sift_region(toy_im(),    compute_grad_mod_ori, compute_sift_region, x=95, y=95, gausm=False)"
      ],
      "execution_count": 0,
      "outputs": []
    },
    {
      "cell_type": "code",
      "metadata": {
        "id": "xrN3wJPScBAP",
        "colab_type": "code",
        "colab": {}
      },
      "source": [
        "def compute_sift_image(I):\n",
        "    x, y = dense_sampling(I)\n",
        "    im = auto_padding(I)\n",
        "    \n",
        "    # TODO calculs communs aux patchs\n",
        "    sifts = np.zeros(len(x), len(y), 128)\n",
        "    for i, xi in enumerate(x):\n",
        "        for j, yj in enumerate(y):\n",
        "            sifts[i, j, :] = None # TODO SIFT du patch de coordonnee (xi, yj)\n",
        "    return sifts"
      ],
      "execution_count": 0,
      "outputs": []
    },
    {
      "cell_type": "markdown",
      "metadata": {
        "id": "5III7z1gcBAR",
        "colab_type": "text"
      },
      "source": [
        "# Partie 2 : Dictionnaire visuel"
      ]
    },
    {
      "cell_type": "code",
      "metadata": {
        "id": "zD1dndq8cBAS",
        "colab_type": "code",
        "colab": {}
      },
      "source": [
        "# Ideally, restart the Python kernel to start from a clean slate\n",
        "import os\n",
        "import numpy as np\n",
        "from tools import *\n",
        "from sift import *"
      ],
      "execution_count": 0,
      "outputs": []
    },
    {
      "cell_type": "code",
      "metadata": {
        "id": "XAsdeB16cBAU",
        "colab_type": "code",
        "colab": {}
      },
      "source": [
        "# Paths config\n",
        "dir_sc = os.path.join('data', 'Scene')\n",
        "dir_sift = os.path.join('data', 'sift')\n",
        "path_vdict = os.path.join('data', 'kmeans', 'vdict.npy')\n",
        "path_vdsift = os.path.join('data', 'kmeans', 'vdsift.npy')\n",
        "path_vdinames = os.path.join('data', 'kmeans', 'vdinames.npy')\n",
        "\n",
        "inames, ilabls, cnames = load_dataset(dir_sc)"
      ],
      "execution_count": 0,
      "outputs": []
    },
    {
      "cell_type": "code",
      "metadata": {
        "id": "2RYgAuFrcBAX",
        "colab_type": "code",
        "colab": {}
      },
      "source": [
        "# If you want to look at the SIFTs that will be fed to compute_visual_dict:\n",
        "sifts_list_by_image = compute_load_sift_dataset(dir_sc, dir_sift, inames, compute_sift_image)"
      ],
      "execution_count": 0,
      "outputs": []
    },
    {
      "cell_type": "code",
      "metadata": {
        "id": "uPvQ6n-UcBAb",
        "colab_type": "code",
        "colab": {}
      },
      "source": [
        "# Code here the `compute_visual_dict` function\n",
        "def compute_visual_dict(sift, n_clusters=1000, n_init=1, verbose=1):\n",
        "    # reorder data\n",
        "    dim_sift = sift[0].shape[-1]\n",
        "    sift = [s.reshape(-1, dim_sift) for s in sift]\n",
        "    sift = np.concatenate(sift, axis=0)\n",
        "    # remove zero vectors\n",
        "    keep = ~np.all(sift==0, axis=1)\n",
        "    sift = sift[keep]\n",
        "    # randomly pick sift\n",
        "    ids, _ = compute_split(sift.shape[0], pc=0.05)\n",
        "    sift = sift[ids]\n",
        "    \n",
        "    # TODO compute kmeans on `sift`, get cluster centers, add zeros vector"
      ],
      "execution_count": 0,
      "outputs": []
    },
    {
      "cell_type": "code",
      "metadata": {
        "id": "GFEIX10VcBAe",
        "colab_type": "code",
        "colab": {}
      },
      "source": [
        "# Run the visual dict computation (saved the first time)\n",
        "vidct = compute_or_load_vdict(dir_sc, dir_sift, inames, compute_sift_image, path_vdict, compute_visual_dict)"
      ],
      "execution_count": 0,
      "outputs": []
    },
    {
      "cell_type": "code",
      "metadata": {
        "id": "y3fHlgtEcBAh",
        "colab_type": "code",
        "colab": {}
      },
      "source": [
        "# Study of the dict\n",
        "regions, sifts = get_regions_and_sifts(dir_sc, np.random.choice(inames, 30)) # Compute SIFT and regions from 30 random images\n",
        "display_images(regions[np.random.choice(len(regions), 100)]) # Show 100 random regions\n",
        "\n",
        "# TODO visually analyze the dict through similar example regions\n",
        "#\n",
        "# Ideally, create `vdregions`, a numpy array of size 1001 x 16 x 16 where each of the 1001 elements is a\n",
        "# \"prototype\" patch that is very close to the cluster center"
      ],
      "execution_count": 0,
      "outputs": []
    },
    {
      "cell_type": "markdown",
      "metadata": {
        "id": "62haTrVicBAj",
        "colab_type": "text"
      },
      "source": [
        "# Partie 3 : BoW"
      ]
    },
    {
      "cell_type": "code",
      "metadata": {
        "id": "XSk7Eo-4cBAj",
        "colab_type": "code",
        "colab": {}
      },
      "source": [
        "# Compute BoW for an image\n",
        "\n",
        "def compute_feats(vdict, image_sifts):\n",
        "    # TODO compute BoW from `image_sifts`\n",
        "    return"
      ],
      "execution_count": 0,
      "outputs": []
    },
    {
      "cell_type": "code",
      "metadata": {
        "id": "6tiEfdE7cBAl",
        "colab_type": "code",
        "colab": {}
      },
      "source": [
        "# Visualize your BoW on an image\n",
        "\n",
        "iname = inames[0]\n",
        "ipath = os.path.join(dir_sc, iname)\n",
        "im = read_grayscale(ipath)\n",
        "sift = compute_sift_image(im)\n",
        "regions = compute_regions(im)\n",
        "feats = compute_feats(vdict, sift)\n",
        "\n",
        "display_vdregions_image(im, vdict, sift, feats, vdregions=None) # if you have vdregions, add it as input here"
      ],
      "execution_count": 0,
      "outputs": []
    }
  ]
}