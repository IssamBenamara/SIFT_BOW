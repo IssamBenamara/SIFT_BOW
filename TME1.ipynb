{
  "nbformat": 4,
  "nbformat_minor": 0,
  "metadata": {
    "colab": {
      "name": "TME1.ipynb",
      "provenance": [],
      "collapsed_sections": [],
      "include_colab_link": true
    },
    "kernelspec": {
      "name": "python3",
      "display_name": "Python 3"
    }
  },
  "cells": [
    {
      "cell_type": "markdown",
      "metadata": {
        "id": "view-in-github",
        "colab_type": "text"
      },
      "source": [
        "<a href=\"https://colab.research.google.com/github/chubby47/SIFT_BOW/blob/master/TME1.ipynb\" target=\"_parent\"><img src=\"https://colab.research.google.com/assets/colab-badge.svg\" alt=\"Open In Colab\"/></a>"
      ]
    },
    {
      "cell_type": "markdown",
      "metadata": {
        "id": "0q8rpDw_RHZk",
        "colab_type": "text"
      },
      "source": [
        "#TME RDFIA\n"
      ]
    },
    {
      "cell_type": "code",
      "metadata": {
        "id": "n9LIptkBPC1W",
        "colab_type": "code",
        "colab": {}
      },
      "source": [
        "import numpy"
      ],
      "execution_count": 0,
      "outputs": []
    },
    {
      "cell_type": "code",
      "metadata": {
        "id": "kaHU-_BoR3O6",
        "colab_type": "code",
        "colab": {}
      },
      "source": [
        "yes"
      ],
      "execution_count": 0,
      "outputs": []
    }
  ]
}